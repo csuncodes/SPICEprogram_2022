{
  "nbformat": 4,
  "nbformat_minor": 0,
  "metadata": {
    "colab": {
      "name": "4_Functions.ipynb",
      "provenance": []
    },
    "kernelspec": {
      "name": "python3",
      "display_name": "Python 3"
    },
    "language_info": {
      "name": "python"
    }
  },
  "cells": [
    {
      "cell_type": "markdown",
      "source": [
        "#Functions\n",
        "It's generally considered bad coding practice to write files with just many lines of code especially if much of the code is doing similar operations. So what programmers do is divy up their programs in to functions. Functions can be thought as paragraphs and a program as the whole essay. Here, we go over how to read and write functions.\n",
        "<hr>"
      ],
      "metadata": {
        "id": "d__-ANf6JS2I"
      }
    },
    {
      "cell_type": "markdown",
      "source": [
        "### What are functions?\n",
        "Functions, or **methods**, are defined sections of code. They are similar to mathematic functions: they usually have inputs that go through a certain operation and return as output. The mathematical expression: x+2 could be thought of as a function\n",
        "\n",
        "```\n",
        "def plusTwo(x):\n",
        "  ans=x+2\n",
        "return ans\n",
        "```\n",
        "Python also has built in functions. Every DataType is a **Class**. A Class can be thought as a discriptor of an **Object** and each Object has its own **Functions**. For example, the String \"Hello\" is an Object of type String. \n"
      ],
      "metadata": {
        "id": "PUPhveoCL8H6"
      }
    },
    {
      "cell_type": "code",
      "execution_count": null,
      "metadata": {
        "colab": {
          "base_uri": "https://localhost:8080/"
        },
        "id": "g12KMjvmIupX",
        "outputId": "834cca9c-c160-4934-d32a-1306d9d769aa"
      },
      "outputs": [
        {
          "output_type": "stream",
          "name": "stdout",
          "text": [
            "HELLO\n"
          ]
        }
      ],
      "source": [
        "var = \"Hello\"\n",
        "# we can use the String Class's built in functions \n",
        "print(var.upper())"
      ]
    },
    {
      "cell_type": "markdown",
      "source": [
        "You can tell if something is a function by the ( ). Some functions don't require a defined input, like upper( ). Other functions will define their expected input like str.count(sub[, start[, end]]) which will count the number of occurances of a given substring across optional given indices across a String."
      ],
      "metadata": {
        "id": "XK_KZJ9AP-XR"
      }
    },
    {
      "cell_type": "code",
      "source": [
        "var.count(\"ll\")"
      ],
      "metadata": {
        "colab": {
          "base_uri": "https://localhost:8080/"
        },
        "id": "LDNshqP3PVyZ",
        "outputId": "04f8ae53-d082-4110-897e-13af3dec9f4b"
      },
      "execution_count": null,
      "outputs": [
        {
          "output_type": "execute_result",
          "data": {
            "text/plain": [
              "1"
            ]
          },
          "metadata": {},
          "execution_count": 4
        }
      ]
    },
    {
      "cell_type": "markdown",
      "source": [
        "## Writing a function\n",
        "So define what is necessary to write your own function.\n",
        "\n",
        "\n",
        "```\n",
        "def plusTwo(x):\n",
        "  ans=x+2\n",
        "return ans\n",
        "```\n",
        "Each function must be defined with \"def\" followed by the name of your function. The necessary input is defined between the ( ). If none are needed, they are empty. The variable defined in ( ) is then referenced in the code. return is a command that returns the value to the main code. Else, it is left in the function.\n",
        "\n"
      ],
      "metadata": {
        "id": "K8s6zNudRdLZ"
      }
    },
    {
      "cell_type": "code",
      "source": [
        "def plusTwo(x):\n",
        "  x=x+2\n",
        "  return x"
      ],
      "metadata": {
        "id": "Ch9URlSSRgNE"
      },
      "execution_count": null,
      "outputs": []
    },
    {
      "cell_type": "markdown",
      "source": [
        "We define our function but notice it doesn't output anything. That's because we haven't **called** the function."
      ],
      "metadata": {
        "id": "V1ZVL-v9TAD_"
      }
    },
    {
      "cell_type": "code",
      "source": [
        "# our function is defined so now we can call it\n",
        "returnedValue = plusTwo(5)\n",
        "print(returnedValue)"
      ],
      "metadata": {
        "colab": {
          "base_uri": "https://localhost:8080/"
        },
        "id": "X91Wvn57TLD7",
        "outputId": "7ac740bd-b191-404b-cac2-8186cf814871"
      },
      "execution_count": null,
      "outputs": [
        {
          "output_type": "stream",
          "name": "stdout",
          "text": [
            "7\n"
          ]
        }
      ]
    },
    {
      "cell_type": "markdown",
      "source": [
        "An important thing to understand about function is the concept of **scope**."
      ],
      "metadata": {
        "id": "A9nSDIVKTmEe"
      }
    },
    {
      "cell_type": "code",
      "source": [
        "x = 7\n",
        "print(plusTwo(x))\n",
        "print(x)"
      ],
      "metadata": {
        "colab": {
          "base_uri": "https://localhost:8080/"
        },
        "id": "oLj_5WxvTtXE",
        "outputId": "24d31e6e-0684-4c35-f913-592477f05fb2"
      },
      "execution_count": null,
      "outputs": [
        {
          "output_type": "stream",
          "name": "stdout",
          "text": [
            "9\n",
            "7\n"
          ]
        }
      ]
    },
    {
      "cell_type": "markdown",
      "source": [
        "How can x be equal to both 9 and 7? This is because of the different scopes of the function vs the program. The first x is instantiated to equal 7 in the scope of the whole program. The x used as input to our function is defined within the scope of the function. It is only the variable within the function that is altered.\n",
        "\n",
        "\n"
      ],
      "metadata": {
        "id": "Hr86F_gMUoWK"
      }
    },
    {
      "cell_type": "markdown",
      "source": [
        "# Homework\n",
        "Try your hand at going through Shawn Rhoades' python exercises: https://colab.research.google.com/github/shawnrhoads/gu-psyc-347/blob/master/docs/module-01-03_Python-Exercises.ipynb"
      ],
      "metadata": {
        "id": "WzTNhbl_tzbE"
      }
    },
    {
      "cell_type": "markdown",
      "source": [
        "# References\n",
        "Rhoads, S. A. & Gan, L. (2022). Computational models of human social behavior and neuroscience: An open educational course and Jupyter Book to advance computational training. Journal of Open Source Education, 5(47), 146. https://doi.org/10.21105/jose.00146"
      ],
      "metadata": {
        "id": "PGX5SMTWvhD4"
      }
    }
  ]
}