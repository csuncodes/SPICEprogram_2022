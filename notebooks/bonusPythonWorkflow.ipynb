{
  "nbformat": 4,
  "nbformat_minor": 0,
  "metadata": {
    "colab": {
      "name": "bonusPythonWorkflow.ipynb",
      "provenance": []
    },
    "kernelspec": {
      "name": "python3",
      "display_name": "Python 3"
    },
    "language_info": {
      "name": "python"
    }
  },
  "cells": [
    {
      "cell_type": "markdown",
      "source": [
        "# The Python Workflow - an Introduction\n",
        "Before diving into how to actually program in Python, we will go over different aspects of developing a programming work flow. This will help you to understand the greater context of programming for your work. You will not need to do any of this for the scope of this class, but it may benefit you if you choose to continue your career in programming.\n",
        "\n",
        "<hr>"
      ],
      "metadata": {
        "id": "wNywT5jsN3GN"
      }
    },
    {
      "cell_type": "markdown",
      "source": [
        "## 1. Downloading Python\n",
        "The Python programming language is usually already downloaded by default by all personal computers. To check if you have python installed and to see which version simply open the terminal on your computer and type:\n",
        "\n",
        "```\n",
        "python --version\n",
        "```\n",
        "If you need to download or update python on your computer, you can download it at the source at https://www.python.org/downloads/. \n",
        "I recommend that you download Anaconda, a popular Python package and environment manager: https://www.anaconda.com/products/distribution. Anaconda makes it easy to download common packages used in data science. \n"
      ],
      "metadata": {
        "id": "RzNp7I6nNvk-"
      }
    },
    {
      "cell_type": "markdown",
      "source": [
        "## 2. How to run Python\n",
        "In this course, we will run all our code in Jupyter notebooks. These are good for testing code or running a tutorial but they may not be the best if you are running code on a bunch of files on a database. Here are several other ways of running Python code. Find the best one the suits your workflow:\n",
        "#### a) Terminal\n",
        "The most basic way to run python programs is to write your program in a text editor, save the file ending in .py (so that the computer knows that it's a Python program), and run it in the terminal with the command \n",
        "\n",
        "```\n",
        "python filename.py\n",
        "```\n",
        "\n",
        "After running your code, you can edit the file for errors or adjustments, save, and run it again. This is the most straightforward workflow and is usually what I do (because my school didn't allow us to use IDEs) but it lacks the ease that using tools can help with.\n",
        "\n",
        "####b) IDEs\n",
        "IDE stands for integrated development environment. It's usually a software that contains your text editor, terminal, and debugger all in one place. This saves you from going back and forth between your code and the terminal and helps to better keep track of errors and variables. If you ever used Matlab, it is used through an IDE. RStudio for R is also an IDE. A popular IDE for Python is PyCharm which can be downloaded here: https://www.jetbrains.com/pycharm/. All IDEs have slightly different ways on how their GUI works so, I recommend looking up a short tour of whatever one you are interested in on YouTube just to get an understanding of how to run a program etc. \n",
        "\n"
      ],
      "metadata": {
        "id": "C450XwpRRVcp"
      }
    },
    {
      "cell_type": "markdown",
      "source": [
        "##3. Github/Gitlab\n",
        "Both Github and Gitlab are version control managers that use Git. Version control is important for both cross-collaboration and editing. Github/Gitlab allows multiply people to work on the same project, even on the same file without overwriting eachother's work. It also keeps track of ever edit made to a file so you are able to revert changes if you accidentally overwrote something or forgot what you wrote previously (Github has saved my life multiple times...).\n",
        "How to use Git is beyond the scope of this course since you do not need to know it to program, it is just useful for your workflow. Further information on Github can be found at https://docs.github.com/en/get-started/quickstart/hello-world and Gitlab can be found at https://docs.gitlab.com/ee/user/."
      ],
      "metadata": {
        "id": "6ywACTO5VfpI"
      }
    }
  ]
}