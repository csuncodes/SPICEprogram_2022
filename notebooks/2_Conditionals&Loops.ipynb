{
  "nbformat": 4,
  "nbformat_minor": 0,
  "metadata": {
    "colab": {
      "name": "2_Conditionals&Loops",
      "provenance": []
    },
    "kernelspec": {
      "name": "python3",
      "display_name": "Python 3"
    },
    "language_info": {
      "name": "python"
    }
  },
  "cells": [
    {
      "cell_type": "markdown",
      "source": [
        "# Conditionals & Loops\n",
        "In this course we will go over conditionals and how to implement them in different kinds of loops. A good portion of this material has been collected from UCSD's ENDURE program by Dr. Ashley Juavinett.\n",
        "<hr>"
      ],
      "metadata": {
        "id": "vAQjRBVlDkr6"
      }
    },
    {
      "cell_type": "markdown",
      "source": [
        "## Comparison and Boolean Operators\n",
        "\n",
        "We can use comparison operators to test the relationship between two objects. These statements return Booleans.\n",
        "\n",
        "**Booleans** are variables that store `True` or `False`. They are named after the British mathematician George Boole. He first formulated Boolean algebra, which are a set of rules for how to reason with and combine these values. This is the basis of all modern computer logic.\n",
        "\n",
        "**Note:** Capitalization *still* matters! TRUE is not a Boolean.\n",
        "\n",
        "\n",
        "| Symbol |    Operation   | Usage | Boolean Outcome |\n",
        "|:------:|:--------------:|:-----:|:-------:|\n",
        "|    ==   |  is equal to  |`10==5*2`| True | \n",
        "|    !=   | is not equal to | `10!=5*2` | False |\n",
        "|    >  | Greater than |  `10 > 2` | True |\n",
        "|    <   |    Less than    |  `10 < 2` | False |\n",
        "| >= | Greater than _or_ equal to | `10 >= 10` | True |\n",
        "| <= | Less than _or_ equal to | `10 >= 10` | True |\n",
        "\n",
        "**Important** \"==\" is for comparisons while \"=\" is for assignment!\n",
        "\n",
        "<div class=\"alert alert-success\"><b>Task:</b> Test each of the comparison operators, saving their output to a variable.</div>"
      ],
      "metadata": {
        "id": "BVC0yrdlD_aX"
      }
    },
    {
      "cell_type": "code",
      "source": [
        "10 > 5"
      ],
      "metadata": {
        "id": "LGAc683dENB8",
        "colab": {
          "base_uri": "https://localhost:8080/"
        },
        "outputId": "06a01a7d-28a4-4876-e77d-1dbb1e1d8f28"
      },
      "execution_count": null,
      "outputs": [
        {
          "output_type": "execute_result",
          "data": {
            "text/plain": [
              "True"
            ]
          },
          "metadata": {},
          "execution_count": 1
        }
      ]
    },
    {
      "cell_type": "markdown",
      "source": [
        "**Boolean operators** use Boolean logic, and include:\n",
        "- `and` : True if both are true\n",
        "- `or` : True if at least one is true\n",
        "- `not` : True only if false"
      ],
      "metadata": {
        "id": "CGMYNXL9ER4X"
      }
    },
    {
      "cell_type": "markdown",
      "source": [
        "<div class=\"alert alert-success\"><b>Task:</b> Test each of the Boolean operations <code>and</code>, <code>or</code>, & <code>not</code> to see how these variables relate, putting integers, floats, and conditional statements on each side.</div>\n"
      ],
      "metadata": {
        "id": "ceIr0KnkEfbr"
      }
    },
    {
      "cell_type": "code",
      "execution_count": null,
      "metadata": {
        "id": "t1DoeL58BvL3",
        "colab": {
          "base_uri": "https://localhost:8080/"
        },
        "outputId": "4bd63b26-5914-438e-c02c-320334b8ddfa"
      },
      "outputs": [
        {
          "output_type": "execute_result",
          "data": {
            "text/plain": [
              "False"
            ]
          },
          "metadata": {},
          "execution_count": 2
        }
      ],
      "source": [
        "(6 > 10) and (4 == 4)"
      ]
    },
    {
      "cell_type": "markdown",
      "source": [
        "<a id=\"conditionals\"></a>\n",
        "\n",
        "## Conditionals\n",
        "**Conditionals** are statements that check for a condition, using the `if` statement, and then only execute a set of code if the condition evaluates as `True`.\n",
        "\n",
        "- `if`\n",
        "- `elif` (else if): After an if, you can use elif statements to check additional conditions.\n",
        "- `else`: After an if, you can use an else that will run if the conditional(s) above have not run.\n",
        "\n",
        "### If/elif/else syntax\n",
        "- Indentation matters! Your statements in the `if` block need to be indented by a tab or four spaces.\n",
        "- You need a colon after `if`, `elif`, and `else`"
      ],
      "metadata": {
        "id": "Y5TN67HiEr-h"
      }
    },
    {
      "cell_type": "code",
      "source": [
        "condition = 10\n",
        "\n",
        "if condition<2:\n",
        "    print('This code executes if the condition evaluates as True.')\n",
        "    \n",
        "else: \n",
        "    print('This code executes if the condition evaluates as False')"
      ],
      "metadata": {
        "id": "p9dBsEz9Eueh",
        "colab": {
          "base_uri": "https://localhost:8080/"
        },
        "outputId": "867ff701-c6ef-4cbe-bf20-03702d37a788"
      },
      "execution_count": null,
      "outputs": [
        {
          "output_type": "stream",
          "name": "stdout",
          "text": [
            "This code executes if the condition evaluates as False\n"
          ]
        }
      ]
    },
    {
      "cell_type": "markdown",
      "source": [
        "### Properties of Conditionals\n",
        "- Conditionals can take any expression that can be evaluated as `True` or `False`. \n",
        "- The order of conditional blocks is always `if` then `elif`(s) then `else`.\n",
        "- If the `elif` is at the end, it will never be tested, as the else will have already returned a value once reached (and Python will throw an error).\n",
        "- An `else` statement is not required, but if both the `if` and the `elif` condtions are not met (both evaluate as `False`), then nothing is returned.\n",
        "- **At most one component (`if` / `elif` / `else`) of a conditional will run**"
      ],
      "metadata": {
        "id": "ghC4JJ08E3tq"
      }
    },
    {
      "cell_type": "markdown",
      "source": [
        "Now we can use boolean operators as the conditional of our if statement:\n"
      ],
      "metadata": {
        "id": "XmmuZVVGFCLn"
      }
    },
    {
      "cell_type": "code",
      "source": [
        "num = 2\n",
        "if num%2==0:\n",
        "  print(\"This number is even!\")\n",
        "elif num==num:\n",
        "  print(\"it's equal to itself!\") \n",
        "else:\n",
        "  print(\"This number is odd!\")"
      ],
      "metadata": {
        "id": "1UoV4DuJFiqp",
        "colab": {
          "base_uri": "https://localhost:8080/"
        },
        "outputId": "644f4cea-5736-4918-94e8-e466c6eb0cf5"
      },
      "execution_count": null,
      "outputs": [
        {
          "output_type": "stream",
          "name": "stdout",
          "text": [
            "This number is even!\n"
          ]
        }
      ]
    },
    {
      "cell_type": "markdown",
      "source": [
        "## Loops\n",
        "Loops are great for when you want to perform the same operation multiple times. Python is able to do multiple kinds of loops. We will cover a few of them, starting with the most common one: the for loop.\n"
      ],
      "metadata": {
        "id": "HFA9IB5xGyUs"
      }
    },
    {
      "cell_type": "markdown",
      "source": [
        "The `for` loop iterates over the elements of the supplied object (a list, range, or a string, e.g.), and executes the containing block once for each element. It has the basic structure below:\n",
        "\n",
        "```\n",
        "for element in object:\n",
        "    (do something)\n",
        " ```\n",
        "\n",
        "We can use `for` loops for various types of objects. Let's look at each of these in turn.\n",
        "\n",
        "### Looping through a string"
      ],
      "metadata": {
        "id": "o15ocqqfH3ft"
      }
    },
    {
      "cell_type": "code",
      "source": [
        "# Looping through a string\n",
        "counter = 0\n",
        "\n",
        "for character in 'hello':\n",
        "    print(character)\n",
        "    counter = counter+1"
      ],
      "metadata": {
        "id": "GnXZ_gmUFlps",
        "colab": {
          "base_uri": "https://localhost:8080/"
        },
        "outputId": "92bcd446-ddcc-4c9a-9a60-0b82d6c36bf2"
      },
      "execution_count": null,
      "outputs": [
        {
          "output_type": "stream",
          "name": "stdout",
          "text": [
            "h\n",
            "e\n",
            "l\n",
            "l\n",
            "o\n"
          ]
        }
      ]
    },
    {
      "cell_type": "markdown",
      "source": [
        "We can combine this with the conditionals we learned previously:"
      ],
      "metadata": {
        "id": "0oj-Xk1HIB4S"
      }
    },
    {
      "cell_type": "code",
      "source": [
        "# Looping through a string\n",
        "counter = 0\n",
        "\n",
        "for character in 'hello':\n",
        "  if character == 'l':\n",
        "    print(character)\n",
        "    counter = counter+1\n",
        "# counter will now count the number of 'l''s there are in a word"
      ],
      "metadata": {
        "colab": {
          "base_uri": "https://localhost:8080/"
        },
        "id": "hSvhrwEcIITb",
        "outputId": "9f3ce6ee-38d9-4149-b911-75ef98c3fb09"
      },
      "execution_count": null,
      "outputs": [
        {
          "output_type": "stream",
          "name": "stdout",
          "text": [
            "l\n",
            "l\n"
          ]
        }
      ]
    },
    {
      "cell_type": "markdown",
      "source": [
        "You may say \"It's great working with Strings but I want to work with my data!\" so, I'll introduce our first and most commonly used data structure: lists! Lists share a lot of the same functionality as Strings."
      ],
      "metadata": {
        "id": "NvxNr1QGIsNr"
      }
    },
    {
      "cell_type": "markdown",
      "source": [
        "## Lists\n",
        "A _list_ is a mutable collection of ordered items, that can be of mixed type.\n",
        "\n",
        "**Mutable** means that individual items in the object can be changed. Lists are mutable. Tuples and strings are not -- they're **immutable**.\n",
        "\n",
        "Lists are created using square brackets `[ ]`, and individual elements are separated by commas."
      ],
      "metadata": {
        "id": "JshZwIG_JwX8"
      }
    },
    {
      "cell_type": "markdown",
      "source": [
        "### Useful list methods\n",
        "- Check the length of your list by using `len(my_list)`\n",
        "- Use `my_list.append()` to add elements to a list\n",
        "- Remove elements by index using `del my_list[index]`\n",
        "- Remove elements by value by using `my_list.remove('value')`\n",
        "- Sort by using `my_list.sort()`"
      ],
      "metadata": {
        "id": "kPo3pjAKJ8Bt"
      }
    },
    {
      "cell_type": "code",
      "source": [
        "fruits=[\"apples\",\"oranges\",\"bananas\"]"
      ],
      "metadata": {
        "id": "GXycLtgbIQ6m"
      },
      "execution_count": null,
      "outputs": []
    },
    {
      "cell_type": "code",
      "source": [
        "# try some list methods here"
      ],
      "metadata": {
        "id": "U8f1HbUWKKBm"
      },
      "execution_count": null,
      "outputs": []
    },
    {
      "cell_type": "markdown",
      "source": [
        "Lists can be accessed the same way has Strings. Instead of each index representing a character, each index is an object with a datatype. We can use the same for loop we used for Strings before with our list."
      ],
      "metadata": {
        "id": "sclChA2FKPY3"
      }
    },
    {
      "cell_type": "code",
      "source": [
        "\n",
        "for fruitType in fruits:\n",
        "    print(fruitType)\n",
        "    counter = 0\n",
        "    counter = counter+1\n",
        "print(counter)"
      ],
      "metadata": {
        "colab": {
          "base_uri": "https://localhost:8080/"
        },
        "id": "SKJCByhDKjSU",
        "outputId": "5958ea57-c50d-42ba-b0da-12835ea25a71"
      },
      "execution_count": null,
      "outputs": [
        {
          "output_type": "stream",
          "name": "stdout",
          "text": [
            "apples\n",
            "oranges\n",
            "bananas\n",
            "1\n"
          ]
        }
      ]
    },
    {
      "cell_type": "markdown",
      "source": [
        "If you want to use a for loop an X number of times and not necessarily dependant on the length of your data, you can use range()."
      ],
      "metadata": {
        "id": "St6d3XvqLVaQ"
      }
    },
    {
      "cell_type": "code",
      "source": [
        "for x in range(0,4):\n",
        "    print(fruits[x])"
      ],
      "metadata": {
        "colab": {
          "base_uri": "https://localhost:8080/",
          "height": 240
        },
        "id": "idtQb_uRLUL5",
        "outputId": "b580816a-3534-4623-c043-9aed99108117"
      },
      "execution_count": null,
      "outputs": [
        {
          "output_type": "stream",
          "name": "stdout",
          "text": [
            "apples\n",
            "oranges\n",
            "bananas\n"
          ]
        },
        {
          "output_type": "error",
          "ename": "IndexError",
          "evalue": "ignored",
          "traceback": [
            "\u001b[0;31m---------------------------------------------------------------------------\u001b[0m",
            "\u001b[0;31mIndexError\u001b[0m                                Traceback (most recent call last)",
            "\u001b[0;32m<ipython-input-25-18d2d0ba4202>\u001b[0m in \u001b[0;36m<module>\u001b[0;34m()\u001b[0m\n\u001b[1;32m      1\u001b[0m \u001b[0;32mfor\u001b[0m \u001b[0mx\u001b[0m \u001b[0;32min\u001b[0m \u001b[0mrange\u001b[0m\u001b[0;34m(\u001b[0m\u001b[0;36m0\u001b[0m\u001b[0;34m,\u001b[0m\u001b[0;36m4\u001b[0m\u001b[0;34m)\u001b[0m\u001b[0;34m:\u001b[0m\u001b[0;34m\u001b[0m\u001b[0;34m\u001b[0m\u001b[0m\n\u001b[0;32m----> 2\u001b[0;31m     \u001b[0mprint\u001b[0m\u001b[0;34m(\u001b[0m\u001b[0mfruits\u001b[0m\u001b[0;34m[\u001b[0m\u001b[0mx\u001b[0m\u001b[0;34m]\u001b[0m\u001b[0;34m)\u001b[0m\u001b[0;34m\u001b[0m\u001b[0;34m\u001b[0m\u001b[0m\n\u001b[0m",
            "\u001b[0;31mIndexError\u001b[0m: list index out of range"
          ]
        }
      ]
    },
    {
      "cell_type": "markdown",
      "source": [
        "With the `while` loop we can execute a set of statements as long as a condition is true. So instead of executing a number of times, we can use a while loop to run as long as a condition remains true. While loops are written as:\n",
        "\n",
        "```\n",
        "while (condition):\n",
        "    (do something)\n",
        " ```\n"
      ],
      "metadata": {
        "id": "066lsXrBK6fd"
      }
    },
    {
      "cell_type": "code",
      "source": [
        "i = 1\n",
        "while i < 6:\n",
        "  print(i)\n",
        "  i += 1"
      ],
      "metadata": {
        "id": "GKVrRDiJMR8x",
        "colab": {
          "base_uri": "https://localhost:8080/"
        },
        "outputId": "024e20e3-ef24-4f69-bf47-cf582e01eac2"
      },
      "execution_count": null,
      "outputs": [
        {
          "output_type": "stream",
          "name": "stdout",
          "text": [
            "1\n",
            "2\n",
            "3\n",
            "4\n",
            "5\n"
          ]
        }
      ]
    },
    {
      "cell_type": "markdown",
      "source": [
        "# Homework\n",
        "Try doing the \"Conditions and Loops\" exercise on Rosalind: https://rosalind.info/problems/list-view/?location=python-village as well as two exercises of your choice from the list: https://rosalind.info/problems/topics/string-algorithms/ Note: some problems you will be able to program with what you know and some are above the knowledge we have gone over."
      ],
      "metadata": {
        "id": "PhKFhZBUrS4W"
      }
    },
    {
      "cell_type": "markdown",
      "source": [
        "# References\n",
        "2022 ENDURE Python for Neuroscientist Workshop - Dr. Ashley Juavinett\n",
        "https://github.com/STARTneuro/ENDURE2022\n"
      ],
      "metadata": {
        "id": "dkbA3VSFvvcY"
      }
    }
  ]
}